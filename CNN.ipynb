{
  "cells": [
    {
      "cell_type": "code",
      "execution_count": null,
      "metadata": {
        "colab": {
          "base_uri": "https://localhost:8080/"
        },
        "id": "hWxYuKEbe7pT",
        "outputId": "7bf29dbb-d5dc-4c6a-e2ab-fe7c611e4997"
      },
      "outputs": [],
      "source": [
        "!pip install matplot lib\n",
        "!pip install keras\n",
        "!pip install tqdm\n",
        "!pip3 install scikit-learn"
      ]
    },
    {
      "cell_type": "code",
      "execution_count": null,
      "metadata": {
        "id": "VMCMWg8zfIT5"
      },
      "outputs": [],
      "source": [
        "from keras.callbacks import Callback\n",
        "from tqdm import tqdm\n",
        "\n",
        "class ProgressBar(Callback):\n",
        "    def on_train_begin(self, logs=None):\n",
        "        self.epochs = self.params['epochs']\n",
        "\n",
        "    def on_epoch_begin(self, epoch, logs=None):\n",
        "        print(f\"Epoch {epoch+1}/{self.epochs}\")\n",
        "        self.progbar = tqdm(total=self.params['steps'])\n",
        "\n",
        "    def on_batch_end(self, batch, logs=None):\n",
        "        self.progbar.update(1)\n",
        "\n",
        "    def on_epoch_end(self, epoch, logs=None):\n",
        "        self.progbar.close()\n"
      ]
    },
    {
      "cell_type": "code",
      "execution_count": null,
      "metadata": {
        "id": "dWwSaGHxfb4E"
      },
      "outputs": [],
      "source": [
        "from matplotlib import pyplot\n",
        "from keras.datasets import cifar10\n",
        "from keras.utils import to_categorical\n",
        "import sys\n",
        "\n",
        "# load train and test dataset\n",
        "def load_dataset():\n",
        "\t# load dataset\n",
        "\t(trainX, trainY), (testX, testY) = cifar10.load_data()\n",
        "\t# one hot encode target values\n",
        "\ttrainY = to_categorical(trainY)\n",
        "\ttestY = to_categorical(testY)\n",
        "\treturn trainX, trainY, testX, testY\n",
        "\n",
        "# normalize data\n",
        "def normalize_data(train, test):\n",
        "\ttrain_norm = train.astype('float32')\n",
        "\ttest_norm = test.astype('float32')\n",
        "\ttrain_norm = train_norm / 255.0\n",
        "\ttest_norm = test_norm / 255.0\n",
        "\treturn train_norm, test_norm\n",
        "\n",
        "# plot diagnostic learning curves\n",
        "def summarize_diagnostics(history):\n",
        "\t# plot loss\n",
        "\tpyplot.subplot(211)\n",
        "\tpyplot.title('Cross Entropy Loss')\n",
        "\tpyplot.plot(history.history['loss'], color='blue', label='train')\n",
        "\tpyplot.plot(history.history['val_loss'], color='orange', label='test')\n",
        "\t# plot accuracy\n",
        "\tpyplot.subplot(212)\n",
        "\tpyplot.title('Classification Accuracy')\n",
        "\tpyplot.plot(history.history['accuracy'], color='blue', label='train')\n",
        "\tpyplot.plot(history.history['val_accuracy'], color='orange', label='test')\n",
        "\t# save plot to file\n",
        "\tfilename = sys.argv[0].split('/')[-1]\n",
        "\tpyplot.savefig(filename + '_plot.png')\n",
        "\tpyplot.close()\n"
      ]
    },
    {
      "cell_type": "code",
      "execution_count": null,
      "metadata": {},
      "outputs": [],
      "source": [
        "from keras.models import Sequential\n",
        "from keras.layers import Dense, Conv2D , MaxPooling2D , Flatten , Dropout , BatchNormalization\n",
        "from keras.optimizers import SGD\n",
        "\n",
        "# define cnn model\n",
        "def define_model():\n",
        "\tmodel = Sequential()\n",
        "\tmodel.add(Conv2D(32,  kernel_size = 3,kernel_initializer='he_normal', activation='relu', input_shape = (32, 32, 3)))\n",
        "\tmodel.add(BatchNormalization())\n",
        "\t\n",
        "\tmodel.add(Dropout(0.2))\n",
        "\t\n",
        "\tmodel.add(Conv2D(64, kernel_size = 3, kernel_initializer='he_normal', strides=1, activation='relu'))\n",
        "\tmodel.add(BatchNormalization())\n",
        "\t\n",
        "\tmodel.add(MaxPooling2D((2, 2)))\n",
        "\tmodel.add(Conv2D(128, kernel_size = 3, strides=1, kernel_initializer='he_normal' ,padding='same', activation='relu'))\n",
        "\tmodel.add(BatchNormalization())\n",
        "\t\n",
        "\tmodel.add(MaxPooling2D((2, 2)))\n",
        "\tmodel.add(Conv2D(64, kernel_size = 3,kernel_initializer='he_normal', activation='relu'))\n",
        "\tmodel.add(BatchNormalization())\n",
        "\t\n",
        "\tmodel.add(MaxPooling2D((4, 4)))\n",
        "\tmodel.add(Dropout(0.2))\n",
        "\n",
        "\tmodel.add(Flatten())\n",
        "\tmodel.add(Dense(256,kernel_initializer='he_normal', activation = \"relu\"))\n",
        "\tmodel.add(Dropout(0.1))\n",
        "\tmodel.add(Dense(10, kernel_initializer='glorot_uniform', activation = \"softmax\"))\n",
        "\n",
        "\n",
        "\t# Compile the model\n",
        "\tmodel.compile(loss=\"categorical_crossentropy\", optimizer=\"adam\", metrics=['accuracy', 'val_accuracy'])\n",
        "\treturn model"
      ]
    },
    {
      "cell_type": "code",
      "execution_count": null,
      "metadata": {
        "colab": {
          "base_uri": "https://localhost:8080/"
        },
        "id": "QZUVKin4e9BJ",
        "outputId": "61d5af8b-cf0d-4075-b278-9f504caeb108"
      },
      "outputs": [],
      "source": [
        "# example of loading the cifar10 dataset\n",
        "from keras.preprocessing.image import ImageDataGenerator\n",
        "from sklearn.model_selection import train_test_split\n",
        "from keras.callbacks import EarlyStopping, ReduceLROnPlateau,ModelCheckpoint\n",
        "\n",
        "trainX, trainY, testX, testY = load_dataset()\n",
        "trainX, testX = normalize_data(trainX,testX)\n",
        "\n",
        "trainX, valX, trainY, valY = train_test_split(trainX, trainY, test_size=0.2, random_state=42)\n",
        "\n",
        "model = define_model()\n",
        "datagen = ImageDataGenerator(width_shift_range=0.1, height_shift_range=0.1, horizontal_flip=True)\n",
        "it_train = datagen.flow(trainX, trainY, batch_size=32)\n",
        "steps = int(trainX.shape[0] / 64)\n",
        "\n",
        "epochs_to_write = 50\n",
        "filename = 'CNN-checkpointer-'+str(epochs_to_write)+'epochs.keras'\n",
        "\n",
        "earlystopper = EarlyStopping(monitor='val_accuracy', patience=5, verbose=1)\n",
        "reduce_lr = ReduceLROnPlateau(monitor='val_accuracy', factor=0.5, patience=5, \n",
        "                               verbose=1, mode='max', min_lr=0.00001)\n",
        "checkpointer = ModelCheckpoint(filename, monitor='val_accuracy', verbose=1,\n",
        "                               save_best_only=True, save_weights_only=True)"
      ]
    },
    {
      "cell_type": "code",
      "execution_count": null,
      "metadata": {},
      "outputs": [],
      "source": [
        "from keras.models import load_model\n",
        "\n",
        "model_to_load = ''\n",
        "model = load_model(model_to_load)"
      ]
    },
    {
      "cell_type": "code",
      "execution_count": null,
      "metadata": {},
      "outputs": [],
      "source": [
        "epochs = 100\n",
        "history = model.fit(it_train, steps_per_epoch=steps, epochs=epochs, validation_data=(valX, valY), verbose=1, callbacks=[ProgressBar(),earlystopper,reduce_lr,checkpointer])\n",
        "_, acc = model.evaluate(testX, testY, verbose=0)\n",
        "\n",
        "print('> %.3f' % (acc * 100.0))\n",
        "summarize_diagnostics(history)"
      ]
    },
    {
      "cell_type": "code",
      "execution_count": null,
      "metadata": {
        "id": "joNEUzueiAlA"
      },
      "outputs": [],
      "source": [
        "epochs_to_write = 60\n",
        "model.save('CNN-'+str(acc)+'-'+str(epochs_to_write)+'epochs.keras')"
      ]
    }
  ],
  "metadata": {
    "accelerator": "GPU",
    "colab": {
      "gpuType": "T4",
      "provenance": []
    },
    "kernelspec": {
      "display_name": "Python 3",
      "name": "python3"
    },
    "language_info": {
      "name": "python"
    }
  },
  "nbformat": 4,
  "nbformat_minor": 0
}
